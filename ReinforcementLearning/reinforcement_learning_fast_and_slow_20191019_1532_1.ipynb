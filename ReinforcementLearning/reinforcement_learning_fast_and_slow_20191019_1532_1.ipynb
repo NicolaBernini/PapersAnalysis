{
  "nbformat": 4,
  "nbformat_minor": 0,
  "metadata": {
    "colab": {
      "name": "Paper Readthrough - Reinforcement Learning, Fast and Slow.ipynb",
      "provenance": [],
      "toc_visible": true
    },
    "kernelspec": {
      "name": "python3",
      "display_name": "Python 3"
    }
  },
  "cells": [
    {
      "cell_type": "markdown",
      "metadata": {
        "id": "-malTWWcNOc8",
        "colab_type": "text"
      },
      "source": [
        "\n",
        "# Reinforcement Learning, Fast and Slow\n",
        "\n",
        "[Reinforcement Learning, Fast and Slow](https://www.cell.com/trends/cognitive-sciences/fulltext/S1364-6613(19)30061-0)\n",
        "\n",
        "\n"
      ]
    },
    {
      "cell_type": "markdown",
      "metadata": {
        "id": "fuwxDAGRNYzw",
        "colab_type": "text"
      },
      "source": [
        "\n",
        "# Overview \n",
        "\n",
        "- RL is about learning a mapping between a State / Situation Space $X$ and an Action Space $A$\n",
        "\n",
        "- For small and discrete spaces, it can be represented as a LUT\n",
        "\n",
        "- For big and continuous ones, it is better to represent it as function\n",
        "\n",
        "- NN is a generic tool to learn functions in a data driven way\n",
        "\n",
        "- DNN is a specific class of NN relying on the inductive bias of depth or hierarchical structure\n",
        "\n",
        "- DNN + RL = DRL\n"
      ]
    },
    {
      "cell_type": "code",
      "metadata": {
        "id": "R0JkUIPvMvzq",
        "colab_type": "code",
        "colab": {}
      },
      "source": [
        ""
      ],
      "execution_count": 0,
      "outputs": []
    }
  ]
}

