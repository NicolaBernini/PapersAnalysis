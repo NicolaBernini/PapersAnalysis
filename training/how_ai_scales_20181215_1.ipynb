{
  "nbformat": 4,
  "nbformat_minor": 0,
  "metadata": {
    "colab": {
      "name": "Analysis of AI Scalability1.ipynb",
      "version": "0.3.2",
      "provenance": []
    },
    "kernelspec": {
      "name": "python3",
      "display_name": "Python 3"
    }
  },
  "cells": [
    {
      "metadata": {
        "id": "sDBkhfBHQ7L7",
        "colab_type": "text"
      },
      "cell_type": "markdown",
      "source": [
        "\n",
        "# Analysis of AI Scalability \n",
        "\n",
        "[How AI Training Scales](https://blog.openai.com/science-of-ai/)\n",
        "\n",
        "\n"
      ]
    },
    {
      "metadata": {
        "id": "1ImsOaS1RAVQ",
        "colab_type": "text"
      },
      "cell_type": "markdown",
      "source": [
        "\n",
        "# Training Scalability \n",
        "\n",
        "- Challenges \n",
        "  - Tasks Complexity grows \n",
        "  - Datasets size grows \n",
        "\n",
        "- Goal: **Scalable AI**\n",
        "  - Training at Scale \n",
        "\n",
        "- Main Execution Strategy: **Parallelization** which leads to Bigger and Bigger Batch Size \n",
        "  \n",
        "\n"
      ]
    },
    {
      "metadata": {
        "id": "SpBjR1xGRks-",
        "colab_type": "text"
      },
      "cell_type": "markdown",
      "source": [
        "\n",
        "# Scalability Issues \n",
        "\n",
        "## Overview \n",
        "\n",
        "- Terminology \n",
        "  - the $s$ : Batch Size \n",
        "  - the $R(s)$ : Algo Return over Batch Size \n",
        "\n",
        "- Batch Size Effect on Algo Improvement \n",
        "  - Batch size increases computational efficiency: the bigger $s$ the better the Training Scaling \n",
        "  - From **empirical observations** there is (at least a local) optimum in $R(s)$ \n",
        "    - increasing $s$ first increases then decreases $R(s)$, so some $s^{\\star}$ (local) optimum Batch Size in the middle exists \n",
        "\n",
        "\n",
        "## Challenge \n",
        "\n",
        "- Define a strategy to find $s^{\\star}$ or anything connect to it \n",
        "\n"
      ]
    },
    {
      "metadata": {
        "id": "BhblTKGKUV9D",
        "colab_type": "text"
      },
      "cell_type": "markdown",
      "source": [
        "\n",
        "# Proposed Solution \n",
        "\n",
        "Use **Gradient Noise Scale** to estimate $s^{\\star}$ which is called **Critical Batch Size**\n",
        "\n",
        "![GNS1](https://blog.openai.com/content/images/2018/12/noise-summary-3.svg)\n",
        "\n",
        "\n",
        "\n"
      ]
    },
    {
      "metadata": {
        "id": "TCB5h1SwQ4NQ",
        "colab_type": "code",
        "colab": {}
      },
      "cell_type": "code",
      "source": [
        ""
      ],
      "execution_count": 0,
      "outputs": []
    },
    {
      "metadata": {
        "id": "MK4OJU1pU3Yl",
        "colab_type": "code",
        "colab": {}
      },
      "cell_type": "code",
      "source": [
        ""
      ],
      "execution_count": 0,
      "outputs": []
    },
    {
      "metadata": {
        "id": "bAIT54TsU3-9",
        "colab_type": "code",
        "colab": {}
      },
      "cell_type": "code",
      "source": [
        ""
      ],
      "execution_count": 0,
      "outputs": []
    }
  ]
}

