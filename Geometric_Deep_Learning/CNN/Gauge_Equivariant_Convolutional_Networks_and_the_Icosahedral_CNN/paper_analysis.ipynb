{
  "nbformat": 4,
  "nbformat_minor": 0,
  "metadata": {
    "colab": {
      "name": " Gauge_Equivariant_Convolutional_Networks_and_the_Icosahedral_CNN.ipynb",
      "provenance": []
    },
    "kernelspec": {
      "name": "python3",
      "display_name": "Python 3"
    }
  },
  "cells": [
    {
      "cell_type": "markdown",
      "metadata": {
        "id": "o5qM311mf9lI",
        "colab_type": "text"
      },
      "source": [
        "\n",
        "\n",
        "# Paper Summary - Gauge Equivariant Convolutional Networks and the Icosahedral CNN \n",
        "\n",
        "Original Paper: [Gauge Equivariant Convolutional Networks and the Icosahedral CNN](https://arxiv.org/abs/1902.04615)\n",
        "\n",
        "Note \n",
        "\n",
        "- As there is some math pleas activate a Browser Side Tex Rendering Plugin like [Tex all the things](https://chrome.google.com/webstore/detail/tex-all-the-things/cbimabofgmfdkicghcadidpemeenbffn) \n",
        "\n",
        "# Intro \n",
        "\n",
        "Main Elements \n",
        "\n",
        "- **Convolutional Filter** is a Filter mapping from a Domain to a Co-domain \n",
        "  - $f : \\mathcal{D} \\rightarrow \\mathcal{C}$\n",
        "  - In CNN context, it maps a feature map into another feature map \n",
        "\n",
        "- **Equivariance** is a property regarding both a filter and its domain of application: \n",
        "  - when a transformation is applied to the filter domain and it fully reflects on the filter output then the filter is called **equivariant** with respect to that transformation \n",
        "    - $f(g(x)) = g(f(x))$ or equivalently \n",
        "    - $g^{-1}(f(g(x))) = f(x)$ (we will use this specific definition later )\n",
        "  - if the transformation gets fully absorbed by the filter, so that there is no trace of its application in the filter output, then the filter is called **invariant** with respect to that transformation \n",
        "    - $f(g(x)) = f(x)$\n",
        "\n",
        "- **Symmetries** is a set of transformations related to a specific space only (so it does not depend on any filter) which map the space in itself without altering its structure \n",
        "\n",
        "- The underlying idea between the Classical CNN Layer acting on an Image or generic Planar Feature Map, is to be able to **slide** it over the plane or equivalently to **slide** the plane under it hence more formally to use one of the **plane symmetries** to transform the plane in itself before processing it again and again with Convolutional Filter \n",
        "  - Generalizing this procedure on a generic space, we would like \n",
        "  1. something the works the same way hence transforming the space in itself for continuous processing \n",
        "  2. the Convolutional Filter result should not depend on the specific position (this is typically called **parameters sharing** and it makes CNN Processing **position independent**)\n",
        "\n",
        "\n",
        "- In terms of space generalization, let's consider a **Manifold** $M$ which is a space which is locally homeomorphic to an Euclidean Space \n",
        "  - Hence given a point $p \\in M$ we have a local tangent space $T_{p}M$ where we can define an **invertible linear mapping** between this Tangent Space and the Eucliden \n",
        "\n",
        "\n",
        "- Unfortunately we can not simply apply the manifold equivalent for the plane shift (transformation member of plane symmetries set) because a generic manifold does not provide any guarantee to possess any global symmetry \n",
        "  - This means with a manifold we can not approach the problem at the global level hence we need to work at a local level, hence considering a point $p$ its neighborhood is a Tangent Space $T_{p}M$ which has the beautiful property of being homeomorphic to the Euclidean Space \n",
        "\n",
        "\n",
        "\n",
        "- Let's then introduce the **Gauge** which is a **Position Dependent Invertible Local Linear Mapping** between the Manifold Tangent Space $T_{p}M$ and the Euclidean Space $\\mathbb{R}^{d}$  \n",
        "  - $w_{p} : \\mathbb{R}^{d} \\rightarrow T_{p}M$ and $\\exists w_{p}^{-1}$\n",
        "\n",
        "- As a result of this, a Gauge also defines a Local Reference Frame in $T_{p}M$ (mapping the Euclidean Reference Frame) \n",
        "  - In fact if $\\{e_{i}\\}$ is basis for $\\mathbb{R}^{d}$ then $\\{w_{p}(e_{i})\\}$ is the corresponding Gauge basis for $T_{p}M$\n",
        "\n",
        "\n",
        "- A **Gauge Transformation** is a **Position Dependent Invertible Change of the Local Frame** \n",
        "  - Mathematically if $w_{p}$ is a Gauge, then $g_{p} \\in GL(d, \\mathbb{R})$ is a Gauge Transformation so that $w_{p} \\rightarrow w_{p}g_{p}$\n",
        "  - With $GL(d, \\mathbb{R})$ group of invertible $d \\times d$ matrix \n",
        "\n",
        "- In order for the **filter sliding** to work properly we need to the Filter to be equivariant with respect to gauge transformation \n",
        "  - Let's call $v_{p}$ the filter output feature map described with respect to the Gauge $w_{p}$\n",
        "  - In order for the filter to be equivariant to the Gauge Transformation $g_{p}$ according to the above definition we need \n",
        "  \n",
        "$$ (w_{p}g_{p})(g_{p}^{-1}v_{p}) = v_{p} $$\n",
        "\n",
        "\n",
        "- The underlying idea is hence to build a filter with this property, depending on the specific manifold it has to process \n",
        "\n",
        "Work in progress \n",
        "\n",
        "\n",
        "\n",
        "\n",
        "\n"
      ]
    },
    {
      "cell_type": "code",
      "metadata": {
        "id": "IKVH2_X0f5WQ",
        "colab_type": "code",
        "colab": {}
      },
      "source": [
        ""
      ],
      "execution_count": 0,
      "outputs": []
    }
  ]
}
