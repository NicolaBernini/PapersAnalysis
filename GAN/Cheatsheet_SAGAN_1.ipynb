{
  "nbformat": 4,
  "nbformat_minor": 0,
  "metadata": {
    "colab": {
      "name": "Analysis of SAGAN1.ipynb",
      "version": "0.3.2",
      "provenance": [],
      "collapsed_sections": []
    },
    "kernelspec": {
      "name": "python3",
      "display_name": "Python 3"
    }
  },
  "cells": [
    {
      "metadata": {
        "id": "DsdYBugvZJ9S",
        "colab_type": "text"
      },
      "cell_type": "markdown",
      "source": [
        "\n",
        "# Analysis of Self Attention Adversarial Networks \n",
        "\n",
        "[Self-Attention Generative Adversarial Networks](https://arxiv.org/abs/1805.08318?fbclid=IwAR1a9tz5IiQRuJ0CuWth7XV4POKUhZFvAhtMBFGRFYHZID6h0U7dcsbF8r8)\n",
        "\n",
        "\n"
      ]
    },
    {
      "metadata": {
        "id": "W6x2IWO3n1-z",
        "colab_type": "text"
      },
      "cell_type": "markdown",
      "source": [
        "\n",
        "# Idea in brief \n",
        "\n",
        "- It is observed that currently (Q2 2018) most commonly used GAN Architectures, which are based con Convolutions, are good at producing **realistic texture** but poor at generating **realistic geometrical structure** \n",
        "\n",
        "- Probably this is a limitation due to the Convolution itself which works only on local information \n",
        "\n",
        "- Attention based mechanism have been introduced to learn long term dependencies and so far have shown promising results \n",
        "\n",
        "- The proposed approach consists essentially in introducing an Attention Mechanism in a typical GAN so to increase its capability to learn long term dependencies and eventually be able to produce realistic geometric structure \n"
      ]
    },
    {
      "metadata": {
        "id": "j96wKEB5Zjmk",
        "colab_type": "text"
      },
      "cell_type": "markdown",
      "source": [
        "\n",
        "# Some Details \n",
        "\n",
        "\n"
      ]
    },
    {
      "metadata": {
        "id": "JXS9j2BrqAcA",
        "colab_type": "text"
      },
      "cell_type": "markdown",
      "source": [
        "\n",
        "## Key Points  \n",
        "\n",
        "- CNN at the core of GAN applied of images (no surprise)\n",
        "- Multi-class Dataset is a highly heterogenous dataset with a lot of different classes each of which has particular appearance in terms of both **texture** and **geometry**\n",
        "  - Example: ImageNet \n",
        "\n",
        "- Texture intensive object class : highly recognizable by texture, loose geometric structure \n",
        "  - Example: ocean, sky, ... \n",
        "- Geometric intensive object class : highly recognizable by its specific geometry \n",
        "  - Example: animals \n",
        "\n",
        "- Current GAN have shown capability to learn a specific subset of classes, the ones less related to Geometric Structure \n",
        "\n",
        "- Convolution is a **local operation** \n",
        "- Self Attention is a **non local operation** \n",
        "\n"
      ]
    },
    {
      "metadata": {
        "id": "m4KoKPu7tI4T",
        "colab_type": "text"
      },
      "cell_type": "markdown",
      "source": [
        "\n",
        "## Key Issues \n",
        "\n",
        "- Q: Can Convolution learn non-local dependencies \n",
        "  - No, by construction they rely on a local receptive field \n",
        "  \n",
        "- Q: How can CNN achieve global semantic \n",
        "  - This is achieved by a Deep Structure: **hierarchical feature learning** lead to global semantic estimation \n",
        "  \n",
        "- Q: How does this connect to texture and geometric structure \n",
        "  - Texture generation is much less sensitive to long term dependencies than geometric structure \n",
        "  - Convolution + Hierarchical Structure can do well for texture \n",
        "  - Geometric structure relies on long term dependencies \n"
      ]
    },
    {
      "metadata": {
        "id": "dv3DlH23ul8s",
        "colab_type": "text"
      },
      "cell_type": "markdown",
      "source": [
        "\n",
        "## Goal in more detail \n",
        "\n",
        "- Build a computational model able to model relationships between **widely separated spatial regions** in a computationally effective way \n",
        "- This is implemented by modifying a CNN GAN adding self attention mechanism \n"
      ]
    },
    {
      "metadata": {
        "id": "IJTe9uk1b9Sb",
        "colab_type": "text"
      },
      "cell_type": "markdown",
      "source": [
        "\n",
        "## Problem \n",
        "\n",
        "- Current (Q2 2018) GANs applied to Multi-class Dataset (e.g. ImageNet) show a major limitation : \n",
        "  - good at generating texture \n",
        "  - poor at generating realistic geometric structure \n",
        "\n",
        "Example \n",
        "\n",
        "- From [NIPS 2016 Tutorial: Generative Adversarial Networks](https://arxiv.org/abs/1701.00160)\n",
        "\n",
        "![Ian Goodfellow Tutorial GAN generated dog](https://cdn-images-1.medium.com/max/800/1*wPRcBE66_sj_AppB4tQ3lw.png)\n",
        "\n",
        "- Texture looks realistic \n",
        "- Geometric Structure is still far from good (even if not totally random)\n",
        "\n",
        "\n",
        "\n",
        "\n"
      ]
    },
    {
      "metadata": {
        "id": "wGkjXuP3ldAc",
        "colab_type": "text"
      },
      "cell_type": "markdown",
      "source": [
        "\n",
        "## Possible Explanations \n",
        "\n",
        "- Convolution works really well to learn short range dependencies (by construction it relies on a receptive field which is local)\n",
        "- Geometric Structure should result from long range dependencies which can not be learned effectively with CNN \n",
        "\n"
      ]
    },
    {
      "metadata": {
        "id": "rwucalZQl6bv",
        "colab_type": "text"
      },
      "cell_type": "markdown",
      "source": [
        "\n",
        "## Proposed Solution \n",
        "\n",
        "- Provide GAN with a mechanism complementary to Convolution to learn long range and multi-level dependencies : use **Self Attention** which is an Attention based mechanism \n"
      ]
    },
    {
      "metadata": {
        "id": "EmxjtUaoqHiB",
        "colab_type": "text"
      },
      "cell_type": "markdown",
      "source": [
        "\n",
        "# More Details \n",
        "\n",
        "Some more details "
      ]
    },
    {
      "metadata": {
        "id": "cvRBIF3aqJXJ",
        "colab_type": "text"
      },
      "cell_type": "markdown",
      "source": [
        "\n",
        "## GAN - More details \n",
        "\n",
        "### Overview \n",
        "\n",
        "- GAN as the current standard architecture for the image generation task \n",
        "\n",
        "- Hard to train \n",
        "  - Unstable \n",
        "  - Highly sensitive to Hypeparams choice \n",
        "\n",
        "### Recent Techniques \n",
        "\n",
        "- The Spectral Normalization seems to work pretty well \n",
        "  - Ref: [Spectral Normalization for Generative Adversarial Networks](https://arxiv.org/abs/1802.05957)\n",
        "\n"
      ]
    },
    {
      "metadata": {
        "id": "7vQ69Qy5rupL",
        "colab_type": "text"
      },
      "cell_type": "markdown",
      "source": [
        "\n",
        "## Attention Mechanism - More Details \n",
        "\n",
        "### Overview \n",
        "\n",
        "- Very effective to learn long term dependencies \n",
        "- Special focus on Self Attention, also called Intra Attention\n",
        "- Self Attention is a **non local operation** contrary to Convolution which is local \n",
        "\n"
      ]
    },
    {
      "metadata": {
        "id": "0jtFtkYmvZYR",
        "colab_type": "text"
      },
      "cell_type": "markdown",
      "source": [
        "\n",
        "# Architecture \n",
        "\n",
        "![Self Attention Mechanism1](https://i.paste.pics/3ddd18a26085af9f6e8cb1fd0e8a855a.png)\n",
        "\n",
        "- From $X$ Input Feature Map to $O$ Self Attention Feature Map \n",
        "\n"
      ]
    },
    {
      "metadata": {
        "id": "Oski8yFYl547",
        "colab_type": "code",
        "colab": {}
      },
      "cell_type": "code",
      "source": [
        ""
      ],
      "execution_count": 0,
      "outputs": []
    },
    {
      "metadata": {
        "id": "VPpUSucawD4t",
        "colab_type": "code",
        "colab": {}
      },
      "cell_type": "code",
      "source": [
        ""
      ],
      "execution_count": 0,
      "outputs": []
    },
    {
      "metadata": {
        "id": "pv0hmyTgZI_N",
        "colab_type": "code",
        "colab": {}
      },
      "cell_type": "code",
      "source": [
        ""
      ],
      "execution_count": 0,
      "outputs": []
    }
  ]
}
