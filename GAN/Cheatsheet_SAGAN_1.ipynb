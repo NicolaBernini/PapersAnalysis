{
  "nbformat": 4,
  "nbformat_minor": 0,
  "metadata": {
    "colab": {
      "name": "Analysis of SAGAN1.ipynb",
      "version": "0.3.2",
      "provenance": [],
      "collapsed_sections": []
    },
    "kernelspec": {
      "name": "python3",
      "display_name": "Python 3"
    }
  },
  "cells": [
    {
      "metadata": {
        "id": "DsdYBugvZJ9S",
        "colab_type": "text"
      },
      "cell_type": "markdown",
      "source": [
        "\n",
        "# Analysis of Self Attention Adversarial Networks \n",
        "\n",
        "[Self-Attention Generative Adversarial Networks](https://arxiv.org/abs/1805.08318?fbclid=IwAR1a9tz5IiQRuJ0CuWth7XV4POKUhZFvAhtMBFGRFYHZID6h0U7dcsbF8r8)\n",
        "\n",
        "\n"
      ]
    },
    {
      "metadata": {
        "id": "j96wKEB5Zjmk",
        "colab_type": "text"
      },
      "cell_type": "markdown",
      "source": [
        "\n",
        "# Intro \n",
        "\n",
        "- CNN at the core of GAN applied of images (no surprise)\n",
        "- Multi-class Dataset is a highly heterogenous dataset with a lot of different classes each of which has particular appearance in terms of both **texture** and **geometry**\n",
        "  - Example: ImageNet \n",
        "\n",
        "- Texture intensive object class : highly recognizable by texture, loose geometric structure \n",
        "  - Example: ocean, sky, ... \n",
        "- Geometric intensive object class : highly recognizable by its specific geometry \n",
        "  - Example: animals \n",
        "  \n",
        "\n"
      ]
    },
    {
      "metadata": {
        "id": "IJTe9uk1b9Sb",
        "colab_type": "text"
      },
      "cell_type": "markdown",
      "source": [
        "\n",
        "# Problem \n",
        "\n",
        "- Current (Q2 2018) GANs applied to Multi-class Dataset (e.g. ImageNet) show a major limitation : \n",
        "  - good at generating texture \n",
        "  - poor at generating realistic geometric structure \n",
        "\n",
        "Example \n",
        "\n",
        "- From [NIPS 2016 Tutorial: Generative Adversarial Networks](https://arxiv.org/abs/1701.00160)\n",
        "\n",
        "![Ian Goodfellow Tutorial GAN generated dog](https://cdn-images-1.medium.com/max/800/1*wPRcBE66_sj_AppB4tQ3lw.png)\n",
        "\n",
        "- Texture looks realistic \n",
        "- Geometric Structure is still far from good (even if not totally random)\n",
        "\n",
        "\n",
        "\n",
        "\n"
      ]
    },
    {
      "metadata": {
        "id": "pv0hmyTgZI_N",
        "colab_type": "code",
        "colab": {}
      },
      "cell_type": "code",
      "source": [
        ""
      ],
      "execution_count": 0,
      "outputs": []
    }
  ]
}
